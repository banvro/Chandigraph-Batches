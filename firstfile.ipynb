{
 "cells": [
  {
   "cell_type": "code",
   "execution_count": 1,
   "id": "e93078dc-fd4c-4c10-975b-b5923cdab1e6",
   "metadata": {},
   "outputs": [
    {
     "name": "stdout",
     "output_type": "stream",
     "text": [
      "helloooo\n"
     ]
    }
   ],
   "source": [
    "print(\"helloooo\")"
   ]
  },
  {
   "cell_type": "code",
   "execution_count": 2,
   "id": "0b1f8598-5f82-4021-9dc8-c96c848ddf29",
   "metadata": {},
   "outputs": [
    {
     "name": "stdout",
     "output_type": "stream",
     "text": [
      "Sdddddddddddd\n"
     ]
    }
   ],
   "source": [
    "print(\"Sdddddddddddd\")"
   ]
  },
  {
   "cell_type": "code",
   "execution_count": null,
   "id": "80267bea-954e-4fc7-8388-1323e0492ba9",
   "metadata": {},
   "outputs": [],
   "source": []
  }
 ],
 "metadata": {
  "kernelspec": {
   "display_name": "Python 3 (ipykernel)",
   "language": "python",
   "name": "python3"
  },
  "language_info": {
   "codemirror_mode": {
    "name": "ipython",
    "version": 3
   },
   "file_extension": ".py",
   "mimetype": "text/x-python",
   "name": "python",
   "nbconvert_exporter": "python",
   "pygments_lexer": "ipython3",
   "version": "3.12.3"
  }
 },
 "nbformat": 4,
 "nbformat_minor": 5
}
